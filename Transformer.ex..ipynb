{
 "cells": [
  {
   "cell_type": "code",
   "execution_count": 1,
   "metadata": {},
   "outputs": [],
   "source": [
    "import pandas as pd\n",
    "import seaborn as sns\n",
    "import numpy as np\n",
    "import matplotlib.pyplot as plt\n",
    "from sklearn.pipeline import Pipeline\n",
    "from sklearn.compose import ColumnTransformer\n",
    "from sklearn.preprocessing import OneHotEncoder, StandardScaler\n",
    "from sklearn.linear_model import LogisticRegression\n",
    "from sklearn.model_selection import train_test_split\n",
    "from sklearn.metrics import accuracy_score"
   ]
  },
  {
   "cell_type": "code",
   "execution_count": 2,
   "metadata": {},
   "outputs": [
    {
     "data": {
      "text/html": [
       "<div>\n",
       "<style scoped>\n",
       "    .dataframe tbody tr th:only-of-type {\n",
       "        vertical-align: middle;\n",
       "    }\n",
       "\n",
       "    .dataframe tbody tr th {\n",
       "        vertical-align: top;\n",
       "    }\n",
       "\n",
       "    .dataframe thead th {\n",
       "        text-align: right;\n",
       "    }\n",
       "</style>\n",
       "<table border=\"1\" class=\"dataframe\">\n",
       "  <thead>\n",
       "    <tr style=\"text-align: right;\">\n",
       "      <th></th>\n",
       "      <th>passengerid</th>\n",
       "      <th>survived</th>\n",
       "      <th>pclass</th>\n",
       "      <th>name</th>\n",
       "      <th>sex</th>\n",
       "      <th>age</th>\n",
       "      <th>sibsp</th>\n",
       "      <th>parch</th>\n",
       "      <th>ticket</th>\n",
       "      <th>fare</th>\n",
       "      <th>cabin</th>\n",
       "      <th>embarked</th>\n",
       "    </tr>\n",
       "  </thead>\n",
       "  <tbody>\n",
       "    <tr>\n",
       "      <th>0</th>\n",
       "      <td>1</td>\n",
       "      <td>0</td>\n",
       "      <td>3</td>\n",
       "      <td>Braund, Mr. Owen Harris</td>\n",
       "      <td>male</td>\n",
       "      <td>22.0</td>\n",
       "      <td>1</td>\n",
       "      <td>0</td>\n",
       "      <td>A/5 21171</td>\n",
       "      <td>7.2500</td>\n",
       "      <td>NaN</td>\n",
       "      <td>S</td>\n",
       "    </tr>\n",
       "    <tr>\n",
       "      <th>1</th>\n",
       "      <td>2</td>\n",
       "      <td>1</td>\n",
       "      <td>1</td>\n",
       "      <td>Cumings, Mrs. John Bradley (Florence Briggs Th...</td>\n",
       "      <td>female</td>\n",
       "      <td>38.0</td>\n",
       "      <td>1</td>\n",
       "      <td>0</td>\n",
       "      <td>PC 17599</td>\n",
       "      <td>71.2833</td>\n",
       "      <td>C85</td>\n",
       "      <td>C</td>\n",
       "    </tr>\n",
       "    <tr>\n",
       "      <th>2</th>\n",
       "      <td>3</td>\n",
       "      <td>1</td>\n",
       "      <td>3</td>\n",
       "      <td>Heikkinen, Miss. Laina</td>\n",
       "      <td>female</td>\n",
       "      <td>26.0</td>\n",
       "      <td>0</td>\n",
       "      <td>0</td>\n",
       "      <td>STON/O2. 3101282</td>\n",
       "      <td>7.9250</td>\n",
       "      <td>NaN</td>\n",
       "      <td>S</td>\n",
       "    </tr>\n",
       "    <tr>\n",
       "      <th>3</th>\n",
       "      <td>4</td>\n",
       "      <td>1</td>\n",
       "      <td>1</td>\n",
       "      <td>Futrelle, Mrs. Jacques Heath (Lily May Peel)</td>\n",
       "      <td>female</td>\n",
       "      <td>35.0</td>\n",
       "      <td>1</td>\n",
       "      <td>0</td>\n",
       "      <td>113803</td>\n",
       "      <td>53.1000</td>\n",
       "      <td>C123</td>\n",
       "      <td>S</td>\n",
       "    </tr>\n",
       "    <tr>\n",
       "      <th>4</th>\n",
       "      <td>5</td>\n",
       "      <td>0</td>\n",
       "      <td>3</td>\n",
       "      <td>Allen, Mr. William Henry</td>\n",
       "      <td>male</td>\n",
       "      <td>35.0</td>\n",
       "      <td>0</td>\n",
       "      <td>0</td>\n",
       "      <td>373450</td>\n",
       "      <td>8.0500</td>\n",
       "      <td>NaN</td>\n",
       "      <td>S</td>\n",
       "    </tr>\n",
       "  </tbody>\n",
       "</table>\n",
       "</div>"
      ],
      "text/plain": [
       "   passengerid  survived  pclass  \\\n",
       "0            1         0       3   \n",
       "1            2         1       1   \n",
       "2            3         1       3   \n",
       "3            4         1       1   \n",
       "4            5         0       3   \n",
       "\n",
       "                                                name     sex   age  sibsp  \\\n",
       "0                            Braund, Mr. Owen Harris    male  22.0      1   \n",
       "1  Cumings, Mrs. John Bradley (Florence Briggs Th...  female  38.0      1   \n",
       "2                             Heikkinen, Miss. Laina  female  26.0      0   \n",
       "3       Futrelle, Mrs. Jacques Heath (Lily May Peel)  female  35.0      1   \n",
       "4                           Allen, Mr. William Henry    male  35.0      0   \n",
       "\n",
       "   parch            ticket     fare cabin embarked  \n",
       "0      0         A/5 21171   7.2500   NaN        S  \n",
       "1      0          PC 17599  71.2833   C85        C  \n",
       "2      0  STON/O2. 3101282   7.9250   NaN        S  \n",
       "3      0            113803  53.1000  C123        S  \n",
       "4      0            373450   8.0500   NaN        S  "
      ]
     },
     "execution_count": 2,
     "metadata": {},
     "output_type": "execute_result"
    }
   ],
   "source": [
    "df = pd.read_csv('train.csv')\n",
    "df.columns = df.columns.str.lower().str.replace(' ', '_').str.replace('(', '').str.replace(')', '')\n",
    "df.head()"
   ]
  },
  {
   "cell_type": "code",
   "execution_count": 3,
   "metadata": {},
   "outputs": [
    {
     "data": {
      "text/plain": [
       "passengerid      0\n",
       "survived         0\n",
       "pclass           0\n",
       "name             0\n",
       "sex              0\n",
       "age            177\n",
       "sibsp            0\n",
       "parch            0\n",
       "ticket           0\n",
       "fare             0\n",
       "cabin          687\n",
       "embarked         2\n",
       "dtype: int64"
      ]
     },
     "execution_count": 3,
     "metadata": {},
     "output_type": "execute_result"
    }
   ],
   "source": [
    "df.isna().sum()"
   ]
  },
  {
   "cell_type": "code",
   "execution_count": 4,
   "metadata": {},
   "outputs": [],
   "source": [
    "df = df.drop(df.loc[df['age'].isnull()].index)"
   ]
  },
  {
   "cell_type": "code",
   "execution_count": 5,
   "metadata": {},
   "outputs": [],
   "source": [
    "df['sex']=df ['sex'].replace(['male'], '0')\n",
    "\n",
    "df['sex']=df ['sex'].replace(['female'], '1')"
   ]
  },
  {
   "cell_type": "code",
   "execution_count": 6,
   "metadata": {},
   "outputs": [],
   "source": [
    "df.drop('cabin',axis =1,inplace=True)"
   ]
  },
  {
   "cell_type": "code",
   "execution_count": 7,
   "metadata": {},
   "outputs": [
    {
     "data": {
      "text/plain": [
       "passengerid    0\n",
       "survived       0\n",
       "pclass         0\n",
       "name           0\n",
       "sex            0\n",
       "age            0\n",
       "sibsp          0\n",
       "parch          0\n",
       "ticket         0\n",
       "fare           0\n",
       "embarked       2\n",
       "dtype: int64"
      ]
     },
     "execution_count": 7,
     "metadata": {},
     "output_type": "execute_result"
    }
   ],
   "source": [
    "df.isna().sum()"
   ]
  },
  {
   "cell_type": "code",
   "execution_count": 8,
   "metadata": {},
   "outputs": [
    {
     "data": {
      "image/png": "[encoded data removed]",
      "text/plain": [
       "<Figure size 698.875x216 with 3 Axes>"
      ]
     },
     "metadata": {
      "needs_background": "light"
     },
     "output_type": "display_data"
    }
   ],
   "source": [
    "grid = sns.FacetGrid(data=df, col='pclass', hue='survived', palette=['#FFADB9', '#3BCCDA'] )\n",
    "grid.map_dataframe(sns.scatterplot, x='age', y='sex')\n",
    "grid.add_legend()\n",
    "grid.set_xlabels(\"Age\")\n",
    "grid.set_ylabels(\"Sex\")\n",
    "sns.despine()\n"
   ]
  },
  {
   "cell_type": "code",
   "execution_count": 9,
   "metadata": {},
   "outputs": [],
   "source": [
    "y = df['survived']\n",
    "X = df.loc[:, df.columns != 'survived']"
   ]
  },
  {
   "cell_type": "code",
   "execution_count": 10,
   "metadata": {},
   "outputs": [],
   "source": [
    "X_train, X_test, y_train, y_test = train_test_split(X, y)"
   ]
  },
  {
   "cell_type": "code",
   "execution_count": 11,
   "metadata": {},
   "outputs": [
    {
     "data": {
      "text/plain": [
       "(535, 10)"
      ]
     },
     "execution_count": 11,
     "metadata": {},
     "output_type": "execute_result"
    }
   ],
   "source": [
    "X_train.shape"
   ]
  },
  {
   "cell_type": "code",
   "execution_count": 12,
   "metadata": {},
   "outputs": [
    {
     "data": {
      "text/plain": [
       "(179, 10)"
      ]
     },
     "execution_count": 12,
     "metadata": {},
     "output_type": "execute_result"
    }
   ],
   "source": [
    "\n",
    "X_test.shape"
   ]
  },
  {
   "cell_type": "code",
   "execution_count": 18,
   "metadata": {},
   "outputs": [],
   "source": [
    "\n",
    "from sklearn.compose import make_column_transformer\n",
    "from sklearn.pipeline import make_pipeline"
   ]
  },
  {
   "cell_type": "code",
   "execution_count": 30,
   "metadata": {},
   "outputs": [],
   "source": [
    "transformer = make_column_transformer(\n",
    "    # (preprocessing, [list of column names])\n",
    "    (OneHotEncoder(sparse=False), ['sex']),\n",
    "    (StandardScaler(), ['age', 'sex']),\n",
    "    ('passthrough', ['pclass']))"
   ]
  },
  {
   "cell_type": "code",
   "execution_count": 20,
   "metadata": {},
   "outputs": [
    {
     "data": {
      "text/plain": [
       "ColumnTransformer(transformers=[('onehotencoder', OneHotEncoder(sparse=False),\n",
       "                                 ['sex']),\n",
       "                                ('standardscaler', StandardScaler(),\n",
       "                                 ['age', 'sex']),\n",
       "                                ('passthrough', 'passthrough', ['pclass'])])"
      ]
     },
     "execution_count": 20,
     "metadata": {},
     "output_type": "execute_result"
    }
   ],
   "source": [
    "transformer.fit(X_train)"
   ]
  },
  {
   "cell_type": "code",
   "execution_count": 24,
   "metadata": {},
   "outputs": [],
   "source": [
    "\n",
    "X_test_trans = transformer.transform(X_test)\n",
    "X_train_trans = transformer.transform(X_train)"
   ]
  },
  {
   "cell_type": "code",
   "execution_count": 25,
   "metadata": {},
   "outputs": [
    {
     "data": {
      "text/plain": [
       "array([[ 1.        ,  0.        , -1.41029856, -0.78194999,  3.        ],\n",
       "       [ 0.        ,  1.        , -0.1119716 ,  1.27885417,  2.        ],\n",
       "       [ 0.        ,  1.        ,  1.45968735,  1.27885417,  1.        ],\n",
       "       [ 0.        ,  1.        , -0.79530158,  1.27885417,  3.        ],\n",
       "       [ 0.        ,  1.        , -1.88862954,  1.27885417,  3.        ],\n",
       "       [ 0.        ,  1.        ,  0.29802639,  1.27885417,  2.        ],\n",
       "       [ 1.        ,  0.        ,  0.22969339, -0.78194999,  3.        ],\n",
       "       [ 1.        ,  0.        ,  0.63969138, -0.78194999,  2.        ],\n",
       "       [ 0.        ,  1.        ,  1.25468836,  1.27885417,  1.        ],\n",
       "       [ 1.        ,  0.        ,  0.46885888, -0.78194999,  2.        ],\n",
       "       [ 0.        ,  1.        ,  0.22969339,  1.27885417,  2.        ],\n",
       "       [ 1.        ,  0.        ,  0.36635939, -0.78194999,  2.        ],\n",
       "       [ 1.        ,  0.        , -0.1803046 , -0.78194999,  1.        ],\n",
       "       [ 0.        ,  1.        , -0.38530359,  1.27885417,  2.        ],\n",
       "       [ 1.        ,  0.        , -0.38530359, -0.78194999,  3.        ],\n",
       "       [ 1.        ,  0.        ,  2.21135033, -0.78194999,  1.        ],\n",
       "       [ 1.        ,  0.        ,  0.43469238, -0.78194999,  2.        ],\n",
       "       [ 1.        ,  0.        , -1.75196355, -0.78194999,  1.        ],\n",
       "       [ 1.        ,  0.        , -1.54696455, -0.78194999,  3.        ],\n",
       "       [ 0.        ,  1.        , -0.52196959,  1.27885417,  3.        ],\n",
       "       [ 1.        ,  0.        , -1.96242918, -0.78194999,  1.        ],\n",
       "       [ 1.        ,  0.        ,  0.36635939, -0.78194999,  3.        ],\n",
       "       [ 1.        ,  0.        , -0.65863558, -0.78194999,  3.        ],\n",
       "       [ 1.        ,  0.        , -0.59030258, -0.78194999,  3.        ],\n",
       "       [ 1.        ,  0.        , -0.79530158, -0.78194999,  2.        ],\n",
       "       [ 1.        ,  0.        , -0.52196959, -0.78194999,  3.        ],\n",
       "       [ 1.        ,  0.        ,  1.04968936, -0.78194999,  3.        ],\n",
       "       [ 1.        ,  0.        , -1.06863357, -0.78194999,  3.        ],\n",
       "       [ 1.        ,  0.        ,  0.98135637, -0.78194999,  1.        ],\n",
       "       [ 0.        ,  1.        , -1.13696657,  1.27885417,  2.        ],\n",
       "       [ 1.        ,  0.        , -1.99659568, -0.78194999,  3.        ],\n",
       "       [ 1.        ,  0.        , -0.31697059, -0.78194999,  3.        ],\n",
       "       [ 1.        ,  0.        , -1.82029655, -0.78194999,  2.        ],\n",
       "       [ 1.        ,  0.        ,  2.75801431, -0.78194999,  2.        ],\n",
       "       [ 1.        ,  0.        ,  0.36635939, -0.78194999,  1.        ],\n",
       "       [ 0.        ,  1.        ,  1.25468836,  1.27885417,  1.        ],\n",
       "       [ 1.        ,  0.        ,  1.18635536, -0.78194999,  3.        ],\n",
       "       [ 0.        ,  1.        , -1.41029856,  1.27885417,  3.        ],\n",
       "       [ 1.        ,  0.        ,  0.43469238, -0.78194999,  1.        ],\n",
       "       [ 1.        ,  0.        , -1.88862954, -0.78194999,  3.        ],\n",
       "       [ 1.        ,  0.        , -0.0436386 , -0.78194999,  3.        ],\n",
       "       [ 0.        ,  1.        , -0.38530359,  1.27885417,  1.        ],\n",
       "       [ 1.        ,  0.        , -0.38530359, -0.78194999,  3.        ],\n",
       "       [ 1.        ,  0.        , -0.31697059, -0.78194999,  3.        ],\n",
       "       [ 1.        ,  0.        , -0.2486376 , -0.78194999,  3.        ],\n",
       "       [ 1.        ,  0.        , -0.31697059, -0.78194999,  1.        ],\n",
       "       [ 1.        ,  0.        ,  0.43469238, -0.78194999,  1.        ],\n",
       "       [ 1.        ,  0.        , -0.31697059, -0.78194999,  3.        ],\n",
       "       [ 0.        ,  1.        , -0.52196959,  1.27885417,  1.        ],\n",
       "       [ 1.        ,  0.        , -0.65863558, -0.78194999,  3.        ],\n",
       "       [ 0.        ,  1.        , -0.79530158,  1.27885417,  3.        ],\n",
       "       [ 1.        ,  0.        , -0.86363458, -0.78194999,  3.        ],\n",
       "       [ 1.        ,  0.        , -0.1803046 , -0.78194999,  2.        ],\n",
       "       [ 0.        ,  1.        ,  0.0246944 ,  1.27885417,  2.        ],\n",
       "       [ 1.        ,  0.        ,  1.66468634, -0.78194999,  2.        ],\n",
       "       [ 1.        ,  0.        ,  0.36635939, -0.78194999,  2.        ],\n",
       "       [ 1.        ,  0.        , -0.72696858, -0.78194999,  3.        ],\n",
       "       [ 1.        ,  0.        , -0.1119716 , -0.78194999,  3.        ],\n",
       "       [ 1.        ,  0.        , -0.86363458, -0.78194999,  3.        ],\n",
       "       [ 1.        ,  0.        ,  0.22969339, -0.78194999,  3.        ],\n",
       "       [ 1.        ,  0.        ,  1.04968936, -0.78194999,  1.        ],\n",
       "       [ 1.        ,  0.        , -0.38530359, -0.78194999,  1.        ],\n",
       "       [ 0.        ,  1.        ,  0.36635939,  1.27885417,  2.        ],\n",
       "       [ 1.        ,  0.        ,  2.41634932, -0.78194999,  3.        ],\n",
       "       [ 0.        ,  1.        ,  0.63969138,  1.27885417,  1.        ],\n",
       "       [ 0.        ,  1.        , -0.79530158,  1.27885417,  3.        ],\n",
       "       [ 1.        ,  0.        , -1.97951243, -0.78194999,  2.        ],\n",
       "       [ 0.        ,  1.        ,  1.39135435,  1.27885417,  2.        ],\n",
       "       [ 1.        ,  0.        ,  0.50302538, -0.78194999,  3.        ],\n",
       "       [ 1.        ,  0.        ,  0.33219289, -0.78194999,  3.        ],\n",
       "       [ 1.        ,  0.        , -0.72696858, -0.78194999,  3.        ],\n",
       "       [ 0.        ,  1.        , -0.72696858,  1.27885417,  2.        ],\n",
       "       [ 1.        ,  0.        , -1.00030057, -0.78194999,  3.        ],\n",
       "       [ 1.        ,  0.        , -0.2486376 , -0.78194999,  3.        ],\n",
       "       [ 1.        ,  0.        , -0.79530158, -0.78194999,  3.        ],\n",
       "       [ 1.        ,  0.        , -0.93196757, -0.78194999,  2.        ],\n",
       "       [ 0.        ,  1.        , -0.79530158,  1.27885417,  3.        ],\n",
       "       [ 0.        ,  1.        , -0.86363458,  1.27885417,  2.        ],\n",
       "       [ 0.        ,  1.        ,  1.93801834,  1.27885417,  1.        ],\n",
       "       [ 1.        ,  0.        , -0.52196959, -0.78194999,  3.        ],\n",
       "       [ 1.        ,  0.        , -0.1119716 , -0.78194999,  3.        ],\n",
       "       [ 1.        ,  0.        , -1.20529957, -0.78194999,  3.        ],\n",
       "       [ 0.        ,  1.        ,  0.57135838,  1.27885417,  3.        ],\n",
       "       [ 0.        ,  1.        , -0.93196757,  1.27885417,  3.        ],\n",
       "       [ 1.        ,  0.        ,  0.0246944 , -0.78194999,  3.        ],\n",
       "       [ 0.        ,  1.        , -1.41029856,  1.27885417,  3.        ],\n",
       "       [ 0.        ,  1.        ,  0.36635939,  1.27885417,  3.        ],\n",
       "       [ 0.        ,  1.        , -1.88862954,  1.27885417,  3.        ],\n",
       "       [ 1.        ,  0.        ,  1.45968735, -0.78194999,  3.        ],\n",
       "       [ 0.        ,  1.        ,  0.98135637,  1.27885417,  1.        ],\n",
       "       [ 1.        ,  0.        , -0.31697059, -0.78194999,  3.        ],\n",
       "       [ 0.        ,  1.        ,  0.70802437,  1.27885417,  1.        ],\n",
       "       [ 1.        ,  0.        ,  0.77635737, -0.78194999,  3.        ],\n",
       "       [ 1.        ,  0.        ,  0.84469037, -0.78194999,  2.        ],\n",
       "       [ 1.        ,  0.        , -0.93196757, -0.78194999,  3.        ],\n",
       "       [ 1.        ,  0.        , -0.31697059, -0.78194999,  3.        ],\n",
       "       [ 1.        ,  0.        ,  0.09302739, -0.78194999,  2.        ],\n",
       "       [ 0.        ,  1.        ,  0.36635939,  1.27885417,  1.        ],\n",
       "       [ 1.        ,  0.        ,  1.93801834, -0.78194999,  1.        ],\n",
       "       [ 0.        ,  1.        ,  0.36635939,  1.27885417,  1.        ],\n",
       "       [ 1.        ,  0.        , -0.2486376 , -0.78194999,  3.        ],\n",
       "       [ 1.        ,  0.        , -0.93196757, -0.78194999,  3.        ],\n",
       "       [ 1.        ,  0.        ,  3.0313463 , -0.78194999,  3.        ],\n",
       "       [ 0.        ,  1.        ,  2.21135033,  1.27885417,  1.        ],\n",
       "       [ 1.        ,  0.        , -0.1119716 , -0.78194999,  1.        ],\n",
       "       [ 1.        ,  0.        , -0.1119716 , -0.78194999,  3.        ],\n",
       "       [ 0.        ,  1.        ,  0.98135637,  1.27885417,  1.        ],\n",
       "       [ 1.        ,  0.        , -0.59030258, -0.78194999,  3.        ],\n",
       "       [ 1.        ,  0.        ,  0.57135838, -0.78194999,  1.        ],\n",
       "       [ 1.        ,  0.        ,  0.43469238, -0.78194999,  2.        ],\n",
       "       [ 1.        ,  0.        , -0.2486376 , -0.78194999,  3.        ],\n",
       "       [ 1.        ,  0.        ,  0.74219087, -0.78194999,  3.        ],\n",
       "       [ 0.        ,  1.        ,  0.09302739,  1.27885417,  3.        ],\n",
       "       [ 0.        ,  1.        ,  1.39135435,  1.27885417,  2.        ],\n",
       "       [ 0.        ,  1.        ,  0.09302739,  1.27885417,  3.        ],\n",
       "       [ 0.        ,  1.        , -0.31697059,  1.27885417,  3.        ],\n",
       "       [ 1.        ,  0.        ,  0.09302739, -0.78194999,  1.        ],\n",
       "       [ 1.        ,  0.        , -0.1803046 , -0.78194999,  2.        ],\n",
       "       [ 1.        ,  0.        ,  0.0246944 , -0.78194999,  2.        ],\n",
       "       [ 1.        ,  0.        ,  1.25468836, -0.78194999,  1.        ],\n",
       "       [ 1.        ,  0.        ,  0.0246944 , -0.78194999,  3.        ],\n",
       "       [ 1.        ,  0.        , -0.65863558, -0.78194999,  3.        ],\n",
       "       [ 1.        ,  0.        , -1.61529755, -0.78194999,  3.        ],\n",
       "       [ 1.        ,  0.        ,  1.52802035, -0.78194999,  2.        ],\n",
       "       [ 0.        ,  1.        ,  1.18635536,  1.27885417,  3.        ],\n",
       "       [ 1.        ,  0.        , -0.31697059, -0.78194999,  3.        ],\n",
       "       [ 1.        ,  0.        ,  1.08385586, -0.78194999,  1.        ],\n",
       "       [ 0.        ,  1.        ,  0.63969138,  1.27885417,  3.        ],\n",
       "       [ 1.        ,  0.        ,  0.16136039, -0.78194999,  3.        ],\n",
       "       [ 0.        ,  1.        ,  0.0246944 ,  1.27885417,  1.        ],\n",
       "       [ 1.        ,  0.        ,  0.70802437, -0.78194999,  3.        ],\n",
       "       [ 1.        ,  0.        , -0.45363659, -0.78194999,  2.        ],\n",
       "       [ 0.        ,  1.        , -1.13696657,  1.27885417,  3.        ],\n",
       "       [ 0.        ,  1.        ,  0.43469238,  1.27885417,  2.        ],\n",
       "       [ 1.        ,  0.        , -0.2486376 , -0.78194999,  3.        ],\n",
       "       [ 0.        ,  1.        , -0.31697059,  1.27885417,  2.        ],\n",
       "       [ 1.        ,  0.        ,  0.05886089, -0.78194999,  3.        ],\n",
       "       [ 1.        ,  0.        , -1.54696455, -0.78194999,  3.        ],\n",
       "       [ 0.        ,  1.        , -0.0436386 ,  1.27885417,  1.        ],\n",
       "       [ 1.        ,  0.        ,  0.09302739, -0.78194999,  3.        ],\n",
       "       [ 1.        ,  0.        , -0.59030258, -0.78194999,  3.        ],\n",
       "       [ 1.        ,  0.        , -0.1803046 , -0.78194999,  1.        ],\n",
       "       [ 0.        ,  1.        , -0.52196959,  1.27885417,  3.        ],\n",
       "       [ 1.        ,  0.        , -0.45363659, -0.78194999,  2.        ],\n",
       "       [ 0.        ,  1.        , -0.86363458,  1.27885417,  2.        ],\n",
       "       [ 0.        ,  1.        ,  0.22969339,  1.27885417,  2.        ],\n",
       "       [ 1.        ,  0.        ,  1.18635536, -0.78194999,  1.        ],\n",
       "       [ 0.        ,  1.        ,  0.84469037,  1.27885417,  2.        ],\n",
       "       [ 1.        ,  0.        ,  1.80135234, -0.78194999,  1.        ],\n",
       "       [ 1.        ,  0.        ,  1.39135435, -0.78194999,  1.        ],\n",
       "       [ 1.        ,  0.        ,  0.57135838, -0.78194999,  3.        ],\n",
       "       [ 0.        ,  1.        ,  1.66468634,  1.27885417,  2.        ],\n",
       "       [ 1.        ,  0.        ,  0.29802639, -0.78194999,  3.        ],\n",
       "       [ 1.        ,  0.        ,  0.0246944 , -0.78194999,  3.        ],\n",
       "       [ 1.        ,  0.        ,  1.08385586, -0.78194999,  3.        ],\n",
       "       [ 0.        ,  1.        , -0.86363458,  1.27885417,  1.        ],\n",
       "       [ 1.        ,  0.        , -0.31697059, -0.78194999,  1.        ],\n",
       "       [ 0.        ,  1.        , -0.31697059,  1.27885417,  2.        ],\n",
       "       [ 1.        ,  0.        , -0.59030258, -0.78194999,  3.        ],\n",
       "       [ 1.        ,  0.        , -0.0436386 , -0.78194999,  3.        ],\n",
       "       [ 0.        ,  1.        , -0.38530359,  1.27885417,  3.        ],\n",
       "       [ 1.        ,  0.        , -0.31697059, -0.78194999,  3.        ],\n",
       "       [ 1.        ,  0.        ,  1.45968735, -0.78194999,  1.        ],\n",
       "       [ 1.        ,  0.        ,  0.29802639, -0.78194999,  3.        ],\n",
       "       [ 1.        ,  0.        , -0.93196757, -0.78194999,  3.        ],\n",
       "       [ 1.        ,  0.        ,  0.16136039, -0.78194999,  3.        ],\n",
       "       [ 1.        ,  0.        , -0.45363659, -0.78194999,  1.        ],\n",
       "       [ 1.        ,  0.        , -0.35113709, -0.78194999,  3.        ],\n",
       "       [ 0.        ,  1.        , -0.59030258,  1.27885417,  3.        ],\n",
       "       [ 1.        ,  0.        , -0.1803046 , -0.78194999,  3.        ],\n",
       "       [ 0.        ,  1.        , -0.31697059,  1.27885417,  3.        ],\n",
       "       [ 1.        ,  0.        ,  0.16136039, -0.78194999,  3.        ],\n",
       "       [ 0.        ,  1.        ,  0.70802437,  1.27885417,  2.        ],\n",
       "       [ 1.        ,  0.        ,  0.43469238, -0.78194999,  3.        ],\n",
       "       [ 0.        ,  1.        ,  2.07468433,  1.27885417,  1.        ],\n",
       "       [ 1.        ,  0.        , -0.38530359, -0.78194999,  3.        ],\n",
       "       [ 1.        ,  0.        ,  0.36635939, -0.78194999,  3.        ],\n",
       "       [ 1.        ,  0.        , -1.41029856, -0.78194999,  3.        ],\n",
       "       [ 1.        ,  0.        ,  1.39135435, -0.78194999,  3.        ]])"
      ]
     },
     "execution_count": 25,
     "metadata": {},
     "output_type": "execute_result"
    }
   ],
   "source": [
    "X_test_trans"
   ]
  },
  {
   "cell_type": "code",
   "execution_count": 26,
   "metadata": {},
   "outputs": [
    {
     "data": {
      "text/plain": [
       "LogisticRegression(max_iter=1000)"
      ]
     },
     "execution_count": 26,
     "metadata": {},
     "output_type": "execute_result"
    }
   ],
   "source": [
    "model = LogisticRegression(max_iter=1000)\n",
    "model.fit(X_train_trans, y_train)"
   ]
  },
  {
   "cell_type": "code",
   "execution_count": 27,
   "metadata": {},
   "outputs": [],
   "source": [
    "y_pred = model.predict(X_test_trans)\n"
   ]
  },
  {
   "cell_type": "code",
   "execution_count": 28,
   "metadata": {},
   "outputs": [
    {
     "data": {
      "text/plain": [
       "0.8156424581005587"
      ]
     },
     "execution_count": 28,
     "metadata": {},
     "output_type": "execute_result"
    }
   ],
   "source": [
    "accuracy_score(y_pred, y_test)"
   ]
  },
  {
   "cell_type": "code",
   "execution_count": null,
   "metadata": {},
   "outputs": [],
   "source": [
    "from sklearn import datasets\n",
    "from sklearn.tree import DecisionTreeClassifier"
   ]
  }
 ],
 "metadata": {
  "kernelspec": {
   "display_name": "Python 3",
   "language": "python",
   "name": "python3"
  },
  "language_info": {
   "codemirror_mode": {
    "name": "ipython",
    "version": 3
   },
   "file_extension": ".py",
   "mimetype": "text/x-python",
   "name": "python",
   "nbconvert_exporter": "python",
   "pygments_lexer": "ipython3",
   "version": "3.8.5"
  }
 },
 "nbformat": 4,
 "nbformat_minor": 4
}
